{
 "nbformat": 4,
 "nbformat_minor": 2,
 "metadata": {
  "language_info": {
   "name": "python",
   "codemirror_mode": {
    "name": "ipython",
    "version": 3
   },
   "version": "3.7.7-final"
  },
  "orig_nbformat": 2,
  "file_extension": ".py",
  "mimetype": "text/x-python",
  "name": "python",
  "npconvert_exporter": "python",
  "pygments_lexer": "ipython3",
  "version": 3,
  "kernelspec": {
   "name": "python37764bitf1d11275e34e419a878bad478db891b2",
   "display_name": "Python 3.7.7 64-bit"
  }
 },
 "cells": [
  {
   "cell_type": "code",
   "execution_count": 17,
   "metadata": {},
   "outputs": [
    {
     "output_type": "execute_result",
     "data": {
      "text/plain": "array([[271, 129, 293, 168],\n       [159, 347, 280, 380],\n       [360, 116, 299, 365]])"
     },
     "metadata": {},
     "execution_count": 17
    }
   ],
   "source": [
    "import numpy as np \n",
    "team = np.arange (1,11)\n",
    "team = np.arange (1,11)\n",
    "np.random.shuffle(team)\n",
    "training,test = team[:7],team[7:]\n",
    "d=np.random.randint(100,400,size=(10,4))\n",
    "np.random.shuffle(d)\n",
    "training,test=d[:7],d[7:]\n",
    "training,test\n",
    "##method 2 \n",
    "\n",
    "r1=np.random.choice(np.arange(d.shape[0]),size=7,replace=False)\n",
    "r1\n",
    "\n",
    "training=d[r1]\n",
    "training\n",
    "\n",
    "test=d[np.setdiff1d(np.arange(d.shape[0]),r1)]\n",
    "test"
   ]
  }
 ]
}